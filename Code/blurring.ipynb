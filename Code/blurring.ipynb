{
 "cells": [
  {
   "cell_type": "code",
   "execution_count": 1,
   "metadata": {},
   "outputs": [],
   "source": [
    "import cv2\n",
    "import numpy as np\n",
    "import random\n",
    "import os \n",
    "\n",
    "#size - in pixels, size of motion blur\n",
    "#angel - in degrees, direction of motion blur\n",
    "def apply_motion_blur(image, size, angle, mode):\n",
    "    k = np.zeros((size, size), dtype=np.float32)\n",
    "    \n",
    "    if mode == 'vertical':\n",
    "        k[:, int((size - 1)/2)] = np.ones(size, dtype=np.float32)\n",
    "    else:\n",
    "        k[ (size-1)// 2 , :] = np.ones(size, dtype=np.float32)\n",
    "    \n",
    "    k = cv2.warpAffine(k, cv2.getRotationMatrix2D( (size / 2 -0.5 , size / 2 -0.5 ) , angle, 1.0), (size, size) )  \n",
    "    k = k * ( 1.0 / np.sum(k) )        \n",
    "    return cv2.filter2D(image, -1, k) "
   ]
  },
  {
   "cell_type": "code",
   "execution_count": 4,
   "metadata": {},
   "outputs": [],
   "source": [
    "sharp_pth = '../Data/LP/sharp/'\n",
    "blur_pth = '../Data/LP/blur/'\n",
    "sharp_images = os.listdir(sharp_pth)"
   ]
  },
  {
   "cell_type": "code",
   "execution_count": 5,
   "metadata": {},
   "outputs": [],
   "source": [
    "for image_name in sharp_images:\n",
    "    size = random.randrange(12, 17, 1)\n",
    "    angle = random.randrange(20, 40, 5)\n",
    "    mode  = random.choices(['vertical','horizontal'], weights=[1,1], k=1)\n",
    "    image = cv2.imread(sharp_pth+image_name)\n",
    "    img = apply_motion_blur(image,size,angle,mode)\n",
    "    cv2.imwrite(blur_pth+image_name, img)\n"
   ]
  }
 ],
 "metadata": {
  "kernelspec": {
   "display_name": "Python 3",
   "language": "python",
   "name": "python3"
  },
  "language_info": {
   "codemirror_mode": {
    "name": "ipython",
    "version": 3
   },
   "file_extension": ".py",
   "mimetype": "text/x-python",
   "name": "python",
   "nbconvert_exporter": "python",
   "pygments_lexer": "ipython3",
   "version": "3.8.5"
  }
 },
 "nbformat": 4,
 "nbformat_minor": 4
}
